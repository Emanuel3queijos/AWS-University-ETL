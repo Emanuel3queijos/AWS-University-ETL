{
  "cells": [
    {
      "cell_type": "markdown",
      "metadata": {
        "id": "XNQIkJMS6LOm"
      },
      "source": [
        "# Inicializar bibliotecas"
      ]
    },
    {
      "cell_type": "code",
      "execution_count": 2,
      "metadata": {
        "colab": {
          "base_uri": "https://localhost:8080/",
          "height": 1000
        },
        "collapsed": true,
        "id": "pdf2osN86LOp",
        "outputId": "a8b56959-902a-4a60-a0c9-fc87393e0872"
      },
      "outputs": [
        {
          "output_type": "stream",
          "name": "stdout",
          "text": [
            "--2024-11-09 23:39:50--  https://emanuel3queijos.github.io/AWS-University-ETL/python_scripts/requirements.txt\n",
            "Resolving emanuel3queijos.github.io (emanuel3queijos.github.io)... 185.199.108.153, 185.199.109.153, 185.199.110.153, ...\n",
            "Connecting to emanuel3queijos.github.io (emanuel3queijos.github.io)|185.199.108.153|:443... connected.\n",
            "HTTP request sent, awaiting response... 200 OK\n",
            "Length: 691 [text/plain]\n",
            "Saving to: ‘requirements.txt’\n",
            "\n",
            "requirements.txt    100%[===================>]     691  --.-KB/s    in 0s      \n",
            "\n",
            "2024-11-09 23:39:51 (32.8 MB/s) - ‘requirements.txt’ saved [691/691]\n",
            "\n",
            "Collecting asttokens==2.4.1 (from -r requirements.txt (line 1))\n",
            "  Downloading asttokens-2.4.1-py2.py3-none-any.whl.metadata (5.2 kB)\n",
            "Collecting colorama==0.4.6 (from -r requirements.txt (line 2))\n",
            "  Downloading colorama-0.4.6-py2.py3-none-any.whl.metadata (17 kB)\n",
            "Collecting comm==0.2.2 (from -r requirements.txt (line 3))\n",
            "  Downloading comm-0.2.2-py3-none-any.whl.metadata (3.7 kB)\n",
            "Collecting debugpy==1.8.5 (from -r requirements.txt (line 4))\n",
            "  Downloading debugpy-1.8.5-cp310-cp310-manylinux_2_17_x86_64.manylinux2014_x86_64.whl.metadata (1.1 kB)\n",
            "Collecting decorator==5.1.1 (from -r requirements.txt (line 5))\n",
            "  Downloading decorator-5.1.1-py3-none-any.whl.metadata (4.0 kB)\n",
            "Collecting executing==2.1.0 (from -r requirements.txt (line 6))\n",
            "  Downloading executing-2.1.0-py2.py3-none-any.whl.metadata (8.9 kB)\n",
            "Collecting Faker==28.4.1 (from -r requirements.txt (line 7))\n",
            "  Downloading Faker-28.4.1-py3-none-any.whl.metadata (15 kB)\n",
            "Collecting ipykernel==6.29.5 (from -r requirements.txt (line 8))\n",
            "  Downloading ipykernel-6.29.5-py3-none-any.whl.metadata (6.3 kB)\n",
            "Collecting ipython==8.27.0 (from -r requirements.txt (line 9))\n",
            "  Downloading ipython-8.27.0-py3-none-any.whl.metadata (5.0 kB)\n",
            "Collecting jedi==0.19.1 (from -r requirements.txt (line 10))\n",
            "  Downloading jedi-0.19.1-py2.py3-none-any.whl.metadata (22 kB)\n",
            "Collecting jupyter_client==8.6.2 (from -r requirements.txt (line 11))\n",
            "  Downloading jupyter_client-8.6.2-py3-none-any.whl.metadata (8.3 kB)\n",
            "Requirement already satisfied: jupyter_core==5.7.2 in /usr/local/lib/python3.10/dist-packages (from -r requirements.txt (line 12)) (5.7.2)\n",
            "Requirement already satisfied: matplotlib-inline==0.1.7 in /usr/local/lib/python3.10/dist-packages (from -r requirements.txt (line 13)) (0.1.7)\n",
            "Requirement already satisfied: nest-asyncio==1.6.0 in /usr/local/lib/python3.10/dist-packages (from -r requirements.txt (line 14)) (1.6.0)\n",
            "Requirement already satisfied: packaging==24.1 in /usr/local/lib/python3.10/dist-packages (from -r requirements.txt (line 15)) (24.1)\n",
            "Requirement already satisfied: parso==0.8.4 in /usr/local/lib/python3.10/dist-packages (from -r requirements.txt (line 16)) (0.8.4)\n",
            "Collecting platformdirs==4.3.3 (from -r requirements.txt (line 17))\n",
            "  Downloading platformdirs-4.3.3-py3-none-any.whl.metadata (11 kB)\n",
            "Collecting prompt_toolkit==3.0.47 (from -r requirements.txt (line 18))\n",
            "  Downloading prompt_toolkit-3.0.47-py3-none-any.whl.metadata (6.4 kB)\n",
            "Collecting psutil==6.0.0 (from -r requirements.txt (line 19))\n",
            "  Downloading psutil-6.0.0-cp36-abi3-manylinux_2_12_x86_64.manylinux2010_x86_64.manylinux_2_17_x86_64.manylinux2014_x86_64.whl.metadata (21 kB)\n",
            "Collecting psycopg2==2.9.9 (from -r requirements.txt (line 20))\n",
            "  Downloading psycopg2-2.9.9.tar.gz (384 kB)\n",
            "\u001b[2K     \u001b[90m━━━━━━━━━━━━━━━━━━━━━━━━━━━━━━━━━━━━━━━━\u001b[0m \u001b[32m384.9/384.9 kB\u001b[0m \u001b[31m7.6 MB/s\u001b[0m eta \u001b[36m0:00:00\u001b[0m\n",
            "\u001b[?25h  Preparing metadata (setup.py) ... \u001b[?25l\u001b[?25hdone\n",
            "Collecting pure_eval==0.2.3 (from -r requirements.txt (line 21))\n",
            "  Downloading pure_eval-0.2.3-py3-none-any.whl.metadata (6.3 kB)\n",
            "Requirement already satisfied: Pygments==2.18.0 in /usr/local/lib/python3.10/dist-packages (from -r requirements.txt (line 22)) (2.18.0)\n",
            "Collecting python-dateutil==2.9.0.post0 (from -r requirements.txt (line 23))\n",
            "  Downloading python_dateutil-2.9.0.post0-py2.py3-none-any.whl.metadata (8.4 kB)\n",
            "Collecting pyzmq==26.2.0 (from -r requirements.txt (line 24))\n",
            "  Downloading pyzmq-26.2.0-cp310-cp310-manylinux_2_28_x86_64.whl.metadata (6.2 kB)\n",
            "Requirement already satisfied: six==1.16.0 in /usr/local/lib/python3.10/dist-packages (from -r requirements.txt (line 25)) (1.16.0)\n",
            "Collecting stack-data==0.6.3 (from -r requirements.txt (line 26))\n",
            "  Downloading stack_data-0.6.3-py3-none-any.whl.metadata (18 kB)\n",
            "Collecting tornado==6.4.1 (from -r requirements.txt (line 27))\n",
            "  Downloading tornado-6.4.1-cp38-abi3-manylinux_2_5_x86_64.manylinux1_x86_64.manylinux_2_17_x86_64.manylinux2014_x86_64.whl.metadata (2.5 kB)\n",
            "Collecting traitlets==5.14.3 (from -r requirements.txt (line 28))\n",
            "  Downloading traitlets-5.14.3-py3-none-any.whl.metadata (10 kB)\n",
            "Requirement already satisfied: wcwidth==0.2.13 in /usr/local/lib/python3.10/dist-packages (from -r requirements.txt (line 29)) (0.2.13)\n",
            "Requirement already satisfied: exceptiongroup in /usr/local/lib/python3.10/dist-packages (from ipython==8.27.0->-r requirements.txt (line 9)) (1.2.2)\n",
            "Requirement already satisfied: typing-extensions>=4.6 in /usr/local/lib/python3.10/dist-packages (from ipython==8.27.0->-r requirements.txt (line 9)) (4.12.2)\n",
            "Requirement already satisfied: pexpect>4.3 in /usr/local/lib/python3.10/dist-packages (from ipython==8.27.0->-r requirements.txt (line 9)) (4.9.0)\n",
            "Requirement already satisfied: ptyprocess>=0.5 in /usr/local/lib/python3.10/dist-packages (from pexpect>4.3->ipython==8.27.0->-r requirements.txt (line 9)) (0.7.0)\n",
            "Downloading asttokens-2.4.1-py2.py3-none-any.whl (27 kB)\n",
            "Downloading colorama-0.4.6-py2.py3-none-any.whl (25 kB)\n",
            "Downloading comm-0.2.2-py3-none-any.whl (7.2 kB)\n",
            "Downloading debugpy-1.8.5-cp310-cp310-manylinux_2_17_x86_64.manylinux2014_x86_64.whl (3.0 MB)\n",
            "\u001b[2K   \u001b[90m━━━━━━━━━━━━━━━━━━━━━━━━━━━━━━━━━━━━━━━━\u001b[0m \u001b[32m3.0/3.0 MB\u001b[0m \u001b[31m49.5 MB/s\u001b[0m eta \u001b[36m0:00:00\u001b[0m\n",
            "\u001b[?25hDownloading decorator-5.1.1-py3-none-any.whl (9.1 kB)\n",
            "Downloading executing-2.1.0-py2.py3-none-any.whl (25 kB)\n",
            "Downloading Faker-28.4.1-py3-none-any.whl (1.8 MB)\n",
            "\u001b[2K   \u001b[90m━━━━━━━━━━━━━━━━━━━━━━━━━━━━━━━━━━━━━━━━\u001b[0m \u001b[32m1.8/1.8 MB\u001b[0m \u001b[31m50.2 MB/s\u001b[0m eta \u001b[36m0:00:00\u001b[0m\n",
            "\u001b[?25hDownloading ipykernel-6.29.5-py3-none-any.whl (117 kB)\n",
            "\u001b[2K   \u001b[90m━━━━━━━━━━━━━━━━━━━━━━━━━━━━━━━━━━━━━━━━\u001b[0m \u001b[32m117.2/117.2 kB\u001b[0m \u001b[31m8.4 MB/s\u001b[0m eta \u001b[36m0:00:00\u001b[0m\n",
            "\u001b[?25hDownloading ipython-8.27.0-py3-none-any.whl (818 kB)\n",
            "\u001b[2K   \u001b[90m━━━━━━━━━━━━━━━━━━━━━━━━━━━━━━━━━━━━━━━━\u001b[0m \u001b[32m819.0/819.0 kB\u001b[0m \u001b[31m29.9 MB/s\u001b[0m eta \u001b[36m0:00:00\u001b[0m\n",
            "\u001b[?25hDownloading jedi-0.19.1-py2.py3-none-any.whl (1.6 MB)\n",
            "\u001b[2K   \u001b[90m━━━━━━━━━━━━━━━━━━━━━━━━━━━━━━━━━━━━━━━━\u001b[0m \u001b[32m1.6/1.6 MB\u001b[0m \u001b[31m50.6 MB/s\u001b[0m eta \u001b[36m0:00:00\u001b[0m\n",
            "\u001b[?25hDownloading jupyter_client-8.6.2-py3-none-any.whl (105 kB)\n",
            "\u001b[2K   \u001b[90m━━━━━━━━━━━━━━━━━━━━━━━━━━━━━━━━━━━━━━━━\u001b[0m \u001b[32m105.9/105.9 kB\u001b[0m \u001b[31m8.8 MB/s\u001b[0m eta \u001b[36m0:00:00\u001b[0m\n",
            "\u001b[?25hDownloading platformdirs-4.3.3-py3-none-any.whl (18 kB)\n",
            "Downloading prompt_toolkit-3.0.47-py3-none-any.whl (386 kB)\n",
            "\u001b[2K   \u001b[90m━━━━━━━━━━━━━━━━━━━━━━━━━━━━━━━━━━━━━━━━\u001b[0m \u001b[32m386.4/386.4 kB\u001b[0m \u001b[31m23.6 MB/s\u001b[0m eta \u001b[36m0:00:00\u001b[0m\n",
            "\u001b[?25hDownloading psutil-6.0.0-cp36-abi3-manylinux_2_12_x86_64.manylinux2010_x86_64.manylinux_2_17_x86_64.manylinux2014_x86_64.whl (290 kB)\n",
            "\u001b[2K   \u001b[90m━━━━━━━━━━━━━━━━━━━━━━━━━━━━━━━━━━━━━━━━\u001b[0m \u001b[32m290.5/290.5 kB\u001b[0m \u001b[31m2.2 MB/s\u001b[0m eta \u001b[36m0:00:00\u001b[0m\n",
            "\u001b[?25hDownloading pure_eval-0.2.3-py3-none-any.whl (11 kB)\n",
            "Downloading python_dateutil-2.9.0.post0-py2.py3-none-any.whl (229 kB)\n",
            "\u001b[2K   \u001b[90m━━━━━━━━━━━━━━━━━━━━━━━━━━━━━━━━━━━━━━━━\u001b[0m \u001b[32m229.9/229.9 kB\u001b[0m \u001b[31m15.1 MB/s\u001b[0m eta \u001b[36m0:00:00\u001b[0m\n",
            "\u001b[?25hDownloading pyzmq-26.2.0-cp310-cp310-manylinux_2_28_x86_64.whl (868 kB)\n",
            "\u001b[2K   \u001b[90m━━━━━━━━━━━━━━━━━━━━━━━━━━━━━━━━━━━━━━━━\u001b[0m \u001b[32m868.8/868.8 kB\u001b[0m \u001b[31m36.6 MB/s\u001b[0m eta \u001b[36m0:00:00\u001b[0m\n",
            "\u001b[?25hDownloading stack_data-0.6.3-py3-none-any.whl (24 kB)\n",
            "Downloading tornado-6.4.1-cp38-abi3-manylinux_2_5_x86_64.manylinux1_x86_64.manylinux_2_17_x86_64.manylinux2014_x86_64.whl (436 kB)\n",
            "\u001b[2K   \u001b[90m━━━━━━━━━━━━━━━━━━━━━━━━━━━━━━━━━━━━━━━━\u001b[0m \u001b[32m436.8/436.8 kB\u001b[0m \u001b[31m23.6 MB/s\u001b[0m eta \u001b[36m0:00:00\u001b[0m\n",
            "\u001b[?25hDownloading traitlets-5.14.3-py3-none-any.whl (85 kB)\n",
            "\u001b[2K   \u001b[90m━━━━━━━━━━━━━━━━━━━━━━━━━━━━━━━━━━━━━━━━\u001b[0m \u001b[32m85.4/85.4 kB\u001b[0m \u001b[31m7.2 MB/s\u001b[0m eta \u001b[36m0:00:00\u001b[0m\n",
            "\u001b[?25hBuilding wheels for collected packages: psycopg2\n",
            "  Building wheel for psycopg2 (setup.py) ... \u001b[?25l\u001b[?25hdone\n",
            "  Created wheel for psycopg2: filename=psycopg2-2.9.9-cp310-cp310-linux_x86_64.whl size=499022 sha256=1f536e571d9fbb982525ada526950bffa875e676c937e8a4ac930a38167a8084\n",
            "  Stored in directory: /root/.cache/pip/wheels/7d/75/13/da1c6d88687ae81bf5e3cfa07d702981ba137963163472b050\n",
            "Successfully built psycopg2\n",
            "Installing collected packages: pure_eval, traitlets, tornado, pyzmq, python-dateutil, psycopg2, psutil, prompt_toolkit, platformdirs, jedi, executing, decorator, debugpy, colorama, asttokens, stack-data, Faker, comm, jupyter_client, ipython, ipykernel\n",
            "  Attempting uninstall: traitlets\n",
            "    Found existing installation: traitlets 5.7.1\n",
            "    Uninstalling traitlets-5.7.1:\n",
            "      Successfully uninstalled traitlets-5.7.1\n",
            "  Attempting uninstall: tornado\n",
            "    Found existing installation: tornado 6.3.3\n",
            "    Uninstalling tornado-6.3.3:\n",
            "      Successfully uninstalled tornado-6.3.3\n",
            "  Attempting uninstall: pyzmq\n",
            "    Found existing installation: pyzmq 24.0.1\n",
            "    Uninstalling pyzmq-24.0.1:\n",
            "      Successfully uninstalled pyzmq-24.0.1\n",
            "  Attempting uninstall: python-dateutil\n",
            "    Found existing installation: python-dateutil 2.8.2\n",
            "    Uninstalling python-dateutil-2.8.2:\n",
            "      Successfully uninstalled python-dateutil-2.8.2\n",
            "  Attempting uninstall: psycopg2\n",
            "    Found existing installation: psycopg2 2.9.10\n",
            "    Uninstalling psycopg2-2.9.10:\n",
            "      Successfully uninstalled psycopg2-2.9.10\n",
            "  Attempting uninstall: psutil\n",
            "    Found existing installation: psutil 5.9.5\n",
            "    Uninstalling psutil-5.9.5:\n",
            "      Successfully uninstalled psutil-5.9.5\n",
            "  Attempting uninstall: prompt_toolkit\n",
            "    Found existing installation: prompt_toolkit 3.0.48\n",
            "    Uninstalling prompt_toolkit-3.0.48:\n",
            "      Successfully uninstalled prompt_toolkit-3.0.48\n",
            "  Attempting uninstall: platformdirs\n",
            "    Found existing installation: platformdirs 4.3.6\n",
            "    Uninstalling platformdirs-4.3.6:\n",
            "      Successfully uninstalled platformdirs-4.3.6\n",
            "  Attempting uninstall: decorator\n",
            "    Found existing installation: decorator 4.4.2\n",
            "    Uninstalling decorator-4.4.2:\n",
            "      Successfully uninstalled decorator-4.4.2\n",
            "  Attempting uninstall: debugpy\n",
            "    Found existing installation: debugpy 1.6.6\n",
            "    Uninstalling debugpy-1.6.6:\n",
            "      Successfully uninstalled debugpy-1.6.6\n",
            "  Attempting uninstall: jupyter_client\n",
            "    Found existing installation: jupyter-client 6.1.12\n",
            "    Uninstalling jupyter-client-6.1.12:\n",
            "      Successfully uninstalled jupyter-client-6.1.12\n",
            "  Attempting uninstall: ipython\n",
            "    Found existing installation: ipython 7.34.0\n",
            "    Uninstalling ipython-7.34.0:\n",
            "      Successfully uninstalled ipython-7.34.0\n",
            "  Attempting uninstall: ipykernel\n",
            "    Found existing installation: ipykernel 5.5.6\n",
            "    Uninstalling ipykernel-5.5.6:\n",
            "      Successfully uninstalled ipykernel-5.5.6\n",
            "\u001b[31mERROR: pip's dependency resolver does not currently take into account all the packages that are installed. This behaviour is the source of the following dependency conflicts.\n",
            "google-colab 1.0.0 requires ipykernel==5.5.6, but you have ipykernel 6.29.5 which is incompatible.\n",
            "google-colab 1.0.0 requires ipython==7.34.0, but you have ipython 8.27.0 which is incompatible.\n",
            "google-colab 1.0.0 requires tornado==6.3.3, but you have tornado 6.4.1 which is incompatible.\n",
            "moviepy 1.0.3 requires decorator<5.0,>=4.0.2, but you have decorator 5.1.1 which is incompatible.\n",
            "notebook 6.5.5 requires jupyter-client<8,>=5.3.4, but you have jupyter-client 8.6.2 which is incompatible.\n",
            "notebook 6.5.5 requires pyzmq<25,>=17, but you have pyzmq 26.2.0 which is incompatible.\u001b[0m\u001b[31m\n",
            "\u001b[0mSuccessfully installed Faker-28.4.1 asttokens-2.4.1 colorama-0.4.6 comm-0.2.2 debugpy-1.8.5 decorator-5.1.1 executing-2.1.0 ipykernel-6.29.5 ipython-8.27.0 jedi-0.19.1 jupyter_client-8.6.2 platformdirs-4.3.3 prompt_toolkit-3.0.47 psutil-6.0.0 psycopg2-2.9.9 pure_eval-0.2.3 python-dateutil-2.9.0.post0 pyzmq-26.2.0 stack-data-0.6.3 tornado-6.4.1 traitlets-5.14.3\n"
          ]
        },
        {
          "output_type": "display_data",
          "data": {
            "application/vnd.colab-display-data+json": {
              "pip_warning": {
                "packages": [
                  "IPython",
                  "dateutil",
                  "debugpy",
                  "decorator",
                  "prompt_toolkit",
                  "psutil",
                  "tornado"
                ]
              },
              "id": "5bebef908fc04a4299bfacd9d63ea545"
            }
          },
          "metadata": {}
        }
      ],
      "source": [
        "!wget https://emanuel3queijos.github.io/AWS-University-ETL/python_scripts/requirements.txt -O requirements.txt\n",
        "!sed -i '/pywin32/d' requirements.txt\n",
        "!pip install -r requirements.txt\n"
      ]
    },
    {
      "cell_type": "markdown",
      "source": [
        "# Scripts para adicionar data dentro do banco\n",
        "\n"
      ],
      "metadata": {
        "id": "4X9oQ2WEH284"
      }
    },
    {
      "cell_type": "code",
      "source": [
        "import psycopg2\n",
        "\n",
        "# Função para criar a conexão\n",
        "def create_connection():\n",
        "    try:\n",
        "        conn = psycopg2.connect(\n",
        "            host=\"db-manu-etluniversityproject-instance.c44vb5orqds7.us-east-1.rds.amazonaws.com\",\n",
        "            dbname=\"AWS-University-ETL-DB\",\n",
        "            user=\"postgres\",\n",
        "            password=\"Emanu0710**\",\n",
        "            port=5432\n",
        "        )\n",
        "\n",
        "        return conn\n",
        "    except Exception as error:\n",
        "        print(f\"Erro ao conectar ao banco de dados: {error}\")\n",
        "        return None\n",
        "create_connection()"
      ],
      "metadata": {
        "id": "Ksa45GelElrN",
        "outputId": "a47d9c4b-632b-4ef9-a6d0-fd33d82c52cd",
        "colab": {
          "base_uri": "https://localhost:8080/"
        }
      },
      "execution_count": 3,
      "outputs": [
        {
          "output_type": "execute_result",
          "data": {
            "text/plain": [
              "<connection object at 0x79f0a8ec3380; dsn: 'user=postgres password=xxx dbname=AWS-University-ETL-DB host=db-manu-etluniversityproject-instance.c44vb5orqds7.us-east-1.rds.amazonaws.com port=5432', closed: 0>"
            ]
          },
          "metadata": {},
          "execution_count": 3
        }
      ]
    },
    {
      "cell_type": "code",
      "source": [
        "def inserir_departamentos():\n",
        "    conn = create_connection()\n",
        "    if conn:\n",
        "        try:\n",
        "            cur = conn.cursor()\n",
        "\n",
        "            # Inserir departamentos\n",
        "            departamentos = [\n",
        "                (\"Escola de Tecnologia\", \"Departamento focado em áreas tecnológicas.\"),\n",
        "                (\"Escola de Engenharia\", \"Departamento voltado para as engenharias.\"),\n",
        "                (\"Escola de Saúde\", \"Departamento voltado para ciências da saúde.\"),\n",
        "                (\"Ciências Biológicas\", \"Departamento voltado para biologia e afins.\")\n",
        "            ]\n",
        "            for nome, descricao in departamentos:\n",
        "                cur.execute(\"\"\"\n",
        "                    INSERT INTO tb_departamento (nome_departamento, descricao)\n",
        "                    VALUES (%s, %s)\n",
        "                    RETURNING cod_departamento\n",
        "                \"\"\", (nome, descricao))\n",
        "                cod_departamento = cur.fetchone()[0]\n",
        "                print(f\"Departamento {nome} inserido com sucesso. Código: {cod_departamento}\")\n",
        "\n",
        "            conn.commit()\n",
        "            print(\"Departamentos e inseridos com sucesso.\")\n",
        "\n",
        "        except Exception as error:\n",
        "            print(f\"Erro ao inserir dados: {error}\")\n",
        "            conn.rollback()\n",
        "        finally:\n",
        "            cur.close()\n",
        "            conn.close()\n",
        "\n",
        "# Executar o script\n",
        "inserir_departamentos()\n"
      ],
      "metadata": {
        "id": "FPsqKqwYJRft",
        "outputId": "ad9d92b9-e4e6-48f6-83a5-a67f0a928259",
        "colab": {
          "base_uri": "https://localhost:8080/"
        }
      },
      "execution_count": 5,
      "outputs": [
        {
          "output_type": "stream",
          "name": "stdout",
          "text": [
            "Departamento Escola de Tecnologia inserido com sucesso. Código: 10\n",
            "Departamento Escola de Engenharia inserido com sucesso. Código: 11\n",
            "Departamento Escola de Saúde inserido com sucesso. Código: 12\n",
            "Departamento Ciências Biológicas inserido com sucesso. Código: 13\n",
            "Departamentos e inseridos com sucesso.\n"
          ]
        }
      ]
    },
    {
      "cell_type": "code",
      "source": [
        "def insert_data():\n",
        "    conn = create_connection()\n",
        "    if conn:\n",
        "        try:\n",
        "            cur = conn.cursor()\n",
        "\n",
        "            # Dicionário onde as chaves são os nomes dos departamentos\n",
        "            cursos_por_departamento = {\n",
        "                \"Escola de Tecnologia\": [\n",
        "                    (\"Engenharia de Software\", \"Curso voltado ao desenvolvimento de software.\", 4, 1200.00),\n",
        "                    (\"Ciência da Computação\", \"Foco em computação e sistemas.\", 4, 1150.00),\n",
        "                    (\"Inteligência Artificial\", \"Curso para aprendizado de IA.\", 4, 1300.00),\n",
        "                    (\"Redes de Computadores\", \"Infraestrutura e comunicação de redes.\", 3, 1100.00)\n",
        "                ],\n",
        "                \"Escola de Engenharia\": [\n",
        "                    (\"Engenharia Civil\", \"Foco em obras e infraestrutura.\", 5, 1400.00),\n",
        "                    (\"Engenharia Elétrica\", \"Curso de sistemas elétricos.\", 5, 1350.00),\n",
        "                    (\"Engenharia Mecânica\", \"Curso sobre mecânica aplicada.\", 5, 1380.00),\n",
        "                    (\"Engenharia de Controle e Automação\", \"Automação industrial.\", 5, 1450.00)\n",
        "                ],\n",
        "                \"Escola de Saúde\": [\n",
        "                    (\"Medicina\", \"Foco em prática médica.\", 6, 2000.00),\n",
        "                    (\"Enfermagem\", \"Prática de enfermagem.\", 4, 1100.00),\n",
        "                    (\"Farmácia\", \"Estudos sobre medicamentos.\", 4, 1250.00),\n",
        "                    (\"Biomedicina\", \"Ciência biomédica.\", 4, 1200.00)\n",
        "                ],\n",
        "                \"Ciências Biológicas\": [\n",
        "                    (\"Biologia\", \"Estudo da vida.\", 4, 1100.00),\n",
        "                    (\"Ecologia\", \"Curso sobre ecossistemas.\", 4, 1050.00),\n",
        "                    (\"Zoologia\", \"Estudo dos animais.\", 4, 1100.00),\n",
        "                    (\"Botânica\", \"Estudo das plantas.\", 4, 1000.00)\n",
        "                ]\n",
        "            }\n",
        "\n",
        "            for nome_departamento, cursos in cursos_por_departamento.items():\n",
        "                # Busca o código do departamento pelo nome\n",
        "                cur.execute(\"\"\"\n",
        "                    SELECT cod_departamento FROM tb_departamento WHERE nome_departamento = %s\n",
        "                \"\"\", (nome_departamento,))\n",
        "                cod_departamento = cur.fetchone()\n",
        "\n",
        "                if cod_departamento is None:\n",
        "                    print(f\"Departamento '{nome_departamento}' não encontrado.\")\n",
        "                    continue\n",
        "\n",
        "                cod_departamento = cod_departamento[0]\n",
        "\n",
        "                for nome_curso, descricao_curso, duracao, mensalidade in cursos:\n",
        "                    cur.execute(\"\"\"\n",
        "                        INSERT INTO tb_curso (nome_curso, descricao, cod_departamento, duracao, valor_mensalidade)\n",
        "                        VALUES (%s, %s, %s, %s, %s)\n",
        "                        RETURNING cod_curso\n",
        "                    \"\"\", (nome_curso, descricao_curso, cod_departamento, duracao, mensalidade))\n",
        "                    cod_curso = cur.fetchone()[0]\n",
        "\n",
        "                    print(f\"Curso {nome_curso} inserido com sucesso. Código: {cod_curso}\")\n",
        "\n",
        "            conn.commit()\n",
        "            print(\"Departamentos, cursos e disciplinas inseridos com sucesso.\")\n",
        "\n",
        "        except Exception as error:\n",
        "            print(f\"Erro ao inserir dados: {error}\")\n",
        "            conn.rollback()\n",
        "        finally:\n",
        "            cur.close()\n",
        "            conn.close()\n",
        "\n",
        "# Executar o script\n",
        "insert_data()\n"
      ],
      "metadata": {
        "id": "aPhUE_iR51Bv",
        "outputId": "67ad7f4f-06d7-4370-d8e9-fad654e6c0bd",
        "colab": {
          "base_uri": "https://localhost:8080/"
        }
      },
      "execution_count": 7,
      "outputs": [
        {
          "output_type": "stream",
          "name": "stdout",
          "text": [
            "Curso Engenharia de Software inserido com sucesso. Código: 3\n",
            "Curso Ciência da Computação inserido com sucesso. Código: 4\n",
            "Curso Inteligência Artificial inserido com sucesso. Código: 5\n",
            "Curso Redes de Computadores inserido com sucesso. Código: 6\n",
            "Curso Engenharia Civil inserido com sucesso. Código: 7\n",
            "Curso Engenharia Elétrica inserido com sucesso. Código: 8\n",
            "Curso Engenharia Mecânica inserido com sucesso. Código: 9\n",
            "Curso Engenharia de Controle e Automação inserido com sucesso. Código: 10\n",
            "Curso Medicina inserido com sucesso. Código: 11\n",
            "Curso Enfermagem inserido com sucesso. Código: 12\n",
            "Curso Farmácia inserido com sucesso. Código: 13\n",
            "Curso Biomedicina inserido com sucesso. Código: 14\n",
            "Curso Biologia inserido com sucesso. Código: 15\n",
            "Curso Ecologia inserido com sucesso. Código: 16\n",
            "Curso Zoologia inserido com sucesso. Código: 17\n",
            "Curso Botânica inserido com sucesso. Código: 18\n",
            "Departamentos, cursos e disciplinas inseridos com sucesso.\n"
          ]
        }
      ]
    },
    {
      "cell_type": "markdown",
      "source": [
        "# operações extras(deleta tudo não vei 😭)"
      ],
      "metadata": {
        "id": "puwt-mDhF3HM"
      }
    },
    {
      "cell_type": "code",
      "source": [
        "\n",
        "def export_to_csv():\n",
        "    conn = create_connection()\n",
        "    try:\n",
        "        cur = conn.cursor()\n",
        "\n",
        "        tables = [\"tb_aluno\", \"tb_curso\", \"tb_disciplina\", \"tb_turma\", \"tb_matricula\", \"tb_inscricao\", \"tb_turma_aluno\"]\n",
        "        for table in tables:\n",
        "            with open(f'{table}.csv', 'w') as f:\n",
        "                cur.copy_expert(f\"COPY {table} TO STDOUT WITH CSV HEADER\", f)\n",
        "\n",
        "        cur.close()\n",
        "        print(\"Dados exportados com sucesso.\")\n",
        "    except (Exception, psycopg2.DatabaseError) as error:\n",
        "        print(f\"Erro ao exportar dados: {error}\")\n",
        "    finally:\n",
        "        if conn is not None:\n",
        "            conn.close()\n",
        "\n",
        "\n",
        "#Export tables\n",
        "export_to_csv()"
      ],
      "metadata": {
        "id": "JqA2uYQ-F2vk"
      },
      "execution_count": null,
      "outputs": []
    },
    {
      "cell_type": "code",
      "execution_count": null,
      "metadata": {
        "id": "RRJ65L-J6LOt",
        "outputId": "b6d73a23-057f-4e50-9740-5c0b16273216"
      },
      "outputs": [
        {
          "name": "stdout",
          "output_type": "stream",
          "text": [
            "Tabelas limpas com sucesso\n"
          ]
        }
      ],
      "source": [
        "# Limpar as tabelas\n",
        "def clean_tables(conn):\n",
        "    conn = create_connection()\n",
        "    try:\n",
        "        cur = conn.cursor()\n",
        "        truncate_sql = \"\"\"TRUNCATE TABLE tb_turma_aluno, tb_inscricao, tb_matricula, tb_turma, tb_disciplina, tb_curso, tb_aluno RESTART IDENTITY CASCADE;\"\"\"\n",
        "        cur.execute(truncate_sql)\n",
        "        conn.commit()\n",
        "        print(\"Tabelas limpas com sucesso\")\n",
        "        cur.close()\n",
        "\n",
        "    except (Exception, psycopg2.DatabaseError) as error:\n",
        "        print(f\"Erro ao truncar tabelas: {error}\")\n",
        "\n",
        "    finally:\n",
        "        if conn is not None:\n",
        "            conn.close()\n",
        "\n",
        "clean_tables()"
      ]
    }
  ],
  "metadata": {
    "kernelspec": {
      "display_name": "Python 3 (ipykernel)",
      "language": "python",
      "name": "python3"
    },
    "language_info": {
      "codemirror_mode": {
        "name": "ipython",
        "version": 3
      },
      "file_extension": ".py",
      "mimetype": "text/x-python",
      "name": "python",
      "nbconvert_exporter": "python",
      "pygments_lexer": "ipython3",
      "version": "3.12.4"
    },
    "colab": {
      "provenance": [],
      "toc_visible": true
    }
  },
  "nbformat": 4,
  "nbformat_minor": 0
}